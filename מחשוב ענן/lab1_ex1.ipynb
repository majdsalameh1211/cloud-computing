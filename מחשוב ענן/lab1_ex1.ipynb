{
  "nbformat": 4,
  "nbformat_minor": 0,
  "metadata": {
    "colab": {
      "provenance": []
    },
    "kernelspec": {
      "name": "python3",
      "display_name": "Python 3"
    },
    "language_info": {
      "name": "python"
    }
  },
  "cells": [
    {
      "cell_type": "code",
      "execution_count": null,
      "metadata": {
        "id": "DqUdGEzK5DEL"
      },
      "outputs": [],
      "source": [
        "# import regular expressins packge\n",
        "# import numbers package\n",
        "\n",
        "import numpy as np\n",
        "import re"
      ]
    },
    {
      "cell_type": "code",
      "source": [
        "def readFile(fileName):\n",
        "    file = open(fileName,'r',encoding=\"cp437\")\n",
        "    fileText = \"\"\n",
        "    for line in file:\n",
        "        fileText += line\n",
        "    return fileText"
      ],
      "metadata": {
        "id": "JNYRdQL15I2s"
      },
      "execution_count": null,
      "outputs": []
    },
    {
      "cell_type": "code",
      "source": [
        "# preprocess text\n",
        "def preProcess(text):\n",
        "# Remove non-letter chars\n",
        "    text = re.sub(\"[^a-zA-Z ]\",\" \", text)\n",
        "# Remove extra spaces\n",
        "    text = re.sub(\" +\",\" \", text)\n",
        "# Change characters to lower\n",
        "    text = text.lower()\n",
        "    return text"
      ],
      "metadata": {
        "id": "qyrT7s5A5M9S"
      },
      "execution_count": null,
      "outputs": []
    },
    {
      "cell_type": "code",
      "source": [
        "# generate a word set of a given text\n",
        "def genDictionary(texts,stopWords):\n",
        "# concatenate the texts\n",
        "    allText = \"\"\n",
        "    for line in texts:\n",
        "        allText += line\n",
        "\n",
        "    # Generate a word list\n",
        "    wordsList =  allText.split()\n",
        "    # Generate a word set\n",
        "    wordsSet =  set(wordsList)\n",
        "\n",
        "# Remove the stop words from the word list\n",
        "    stopWordsList = stopWords.split()\n",
        "    stopWordsSet = set(stopWordsList)\n",
        "    dictSet = wordsSet.difference(stopWordsSet)\n",
        "    return list(dictSet)"
      ],
      "metadata": {
        "id": "5-vsMk3C5SMf"
      },
      "execution_count": null,
      "outputs": []
    },
    {
      "cell_type": "code",
      "source": [
        "# find the distance between arrays\n",
        "def arrayDist(freqArray1,freqArray2):\n",
        "    diffArray = freqArray1-freqArray2\n",
        "#        copute the distance (\"pitagoras\")\n",
        "    sqrArray =  np.square(diffArray)\n",
        "    sumArray =  np.sum(sqrArray)\n",
        "    return np.sqrt(sumArray)"
      ],
      "metadata": {
        "id": "2rD2iSKW5Wz3"
      },
      "execution_count": null,
      "outputs": []
    },
    {
      "cell_type": "code",
      "source": [
        "def getWordFrequency(texts,dictList):\n",
        "    dictSize = len(dictList)\n",
        "    nTexts = len(texts)\n",
        "    wordFreq = np.empty((nTexts,dictSize),dtype=np.int64)\n",
        "    for i in range(nTexts):\n",
        "        print(\"text\" + str(i))\n",
        "        for j in range(dictSize):\n",
        "            wordFreq[i,j] = len(re.findall(dictList[j],texts[i]))\n",
        "    return wordFreq"
      ],
      "metadata": {
        "id": "za-UJUop5dkh"
      },
      "execution_count": null,
      "outputs": []
    },
    {
      "cell_type": "markdown",
      "source": [
        "### Section 2"
      ],
      "metadata": {
        "id": "ihOZqgQs68f_"
      }
    },
    {
      "cell_type": "code",
      "source": [
        "bookTexts = []\n",
        "\n",
        "#read  and preprocess files\n",
        "bookTexts += [readFile('DB1.txt')]\n",
        "bookTexts += [readFile('DB2.txt')]\n",
        "bookTexts += [readFile('Eliot1.txt')]\n",
        "bookTexts += [readFile('Eliot2.txt')]"
      ],
      "metadata": {
        "id": "8baetd9Z5g_g"
      },
      "execution_count": null,
      "outputs": []
    },
    {
      "cell_type": "markdown",
      "source": [
        "### Sections 3 and 4"
      ],
      "metadata": {
        "id": "_VeAn6fg7GF7"
      }
    },
    {
      "cell_type": "code",
      "source": [
        "texts = []\n",
        "for text in bookTexts:\n",
        "    texts += [preProcess(text)]"
      ],
      "metadata": {
        "id": "32T8__uy5krG"
      },
      "execution_count": null,
      "outputs": []
    },
    {
      "cell_type": "markdown",
      "source": [
        "### Section 4 and 5"
      ],
      "metadata": {
        "id": "i0WU4kIW7L7x"
      }
    },
    {
      "cell_type": "code",
      "source": [
        "# Read stop words file - words that can be removed\n",
        "stopWords = readFile('stopwords_en.txt')\n",
        "\n",
        "# get dictionary list\n",
        "dictList = genDictionary(texts,stopWords)"
      ],
      "metadata": {
        "id": "s3rlXL085mc_"
      },
      "execution_count": null,
      "outputs": []
    },
    {
      "cell_type": "markdown",
      "source": [
        "### Section 6"
      ],
      "metadata": {
        "id": "fCdnj_5M7Uln"
      }
    },
    {
      "cell_type": "code",
      "source": [
        "# Find the frequency of the dictionary words in the files\n",
        "wordFreq = getWordFrequency(texts,dictList)"
      ],
      "metadata": {
        "id": "ph4zIq675qkY"
      },
      "execution_count": null,
      "outputs": []
    },
    {
      "cell_type": "markdown",
      "source": [
        "### Section 7"
      ],
      "metadata": {
        "id": "0OEPCEy-7X80"
      }
    },
    {
      "cell_type": "code",
      "source": [
        "# find the distance matrix between the text files\n",
        "rows,colomns = wordFreq.shape\n",
        "dist = np.empty((rows,rows))\n",
        "for i in range(rows):\n",
        "    for j in range(rows):\n",
        "        # calculate the distance between the frequency vectors\n",
        "        dist[i,j] = arrayDist(wordFreq[i],wordFreq[j])\n",
        "np.set_printoptions(precision=0)\n",
        "print(\"dist matrix = \\n\",dist)"
      ],
      "metadata": {
        "id": "ED9NGcoC5seE"
      },
      "execution_count": null,
      "outputs": []
    }
  ]
}